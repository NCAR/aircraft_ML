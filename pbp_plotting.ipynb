{
 "cells": [
  {
   "cell_type": "code",
   "execution_count": null,
   "id": "7fc01067",
   "metadata": {},
   "outputs": [],
   "source": [
    "import xarray as xr\n",
    "import numpy as np"
   ]
  },
  {
   "cell_type": "code",
   "execution_count": null,
   "id": "0625d93f",
   "metadata": {},
   "outputs": [],
   "source": [
    "# Open pbp file\n",
    "ds = xr.open_dataset('PbP_SODA/20250524_022503_F2DS_V.pbp.nc',decode_times=False)"
   ]
  },
  {
   "cell_type": "markdown",
   "id": "eab693c5",
   "metadata": {},
   "source": [
    "### Saves probe time to UTC to display on images"
   ]
  },
  {
   "cell_type": "code",
   "execution_count": null,
   "id": "4891c89b",
   "metadata": {},
   "outputs": [],
   "source": [
    "#convert seconds since midnight to hh:mm:ss\n",
    "origin = np.datetime64('2025-05-24T00:00:00')\n",
    "utc_times = origin + ds['probetime'].astype('timedelta64[s]')\n",
    "ds['UTC_Time'] = utc_times"
   ]
  },
  {
   "cell_type": "markdown",
   "id": "3976f4e1",
   "metadata": {},
   "source": [
    "## Plot Raw image, no scaling or trimming"
   ]
  },
  {
   "cell_type": "code",
   "execution_count": null,
   "id": "5a4457b2",
   "metadata": {},
   "outputs": [],
   "source": [
    "import numpy as np\n",
    "import matplotlib.pyplot as plt\n",
    "\n",
    "# --- 1. Select a Particle Index (e.g., the 5000th particle) ---\n",
    "particle_index = 34000\n",
    "\n",
    "# --- 2. Extract Pointers ---\n",
    "start_slice = ds['starty'].values[particle_index]\n",
    "stop_slice = ds['stopy'].values[particle_index]\n",
    "start_diode = ds['startx'].values[particle_index]\n",
    "stop_diode = ds['stopx'].values[particle_index]\n",
    "\n",
    "# --- 3. Extract the Image Sub-Array ---\n",
    "# Slicing the large 'image' array using the extracted indices\n",
    "particle_image = ds['image'].values[\n",
    "    start_slice : stop_slice, \n",
    "    start_diode : stop_diode\n",
    "]\n",
    "\n",
    "# Get descriptive size metrics for the title\n",
    "ysize_microns = ds['ysize'].values[particle_index]\n",
    "xsize_microns = ds['xsize'].values[particle_index]\n",
    "\n",
    "# --- 4. Plot the Image ---\n",
    "plt.figure(figsize=(4, 6))\n",
    "# 'binary' cmap shows 1s (shaded pixels) as black and 0s as white\n",
    "plt.imshow(particle_image, cmap='binary', interpolation='none') \n",
    "plt.title(f\"Particle {particle_index} | Size: {particle_image.shape[0]} slices x {particle_image.shape[1]} diodes\")\n",
    "plt.xlabel('Diode (X-Position)')\n",
    "plt.ylabel('Slice (Y-Position / Along Airflow)')\n",
    "plt.show()"
   ]
  },
  {
   "cell_type": "markdown",
   "id": "207bc955",
   "metadata": {},
   "source": [
    "## Plot histogram of phases for flight of interest"
   ]
  },
  {
   "cell_type": "code",
   "execution_count": null,
   "id": "60f3c17b",
   "metadata": {},
   "outputs": [],
   "source": [
    "import pandas as pd\n",
    "import matplotlib.pyplot as plt\n",
    "# Open your NetCDF file\n",
    "rf_ds = xr.open_dataset('RF05.20240311.051845_125704.PNI.nc')\n",
    "\n",
    "# Replace 'temperature' with the actual variable name in your dataset\n",
    "temp = rf_ds['ATX'].values\n",
    "\n",
    "# Define bins: (-inf, -30], (-30, 0], (0, inf)\n",
    "bins = [-np.inf, -40, 0, np.inf]\n",
    "labels = ['Ice', 'Mixed Phase', 'Water']\n",
    "\n",
    "# Bin the data\n",
    "categories = pd.cut(temp, bins=bins, labels=labels)\n",
    "\n",
    "# Count occurrences in each bin\n",
    "hist = pd.value_counts(categories, sort=False)\n",
    "\n",
    "\n",
    "hist.plot(kind='bar')\n",
    "plt.xlabel('Temperature Range')\n",
    "plt.ylabel('Count')\n",
    "plt.title('Temperature Histogram')\n",
    "plt.show()"
   ]
  },
  {
   "cell_type": "markdown",
   "id": "c699472c",
   "metadata": {},
   "source": [
    "## Standardized function to scale a particle to a 128x128 canvas and save the plot into specified output folder"
   ]
  },
  {
   "cell_type": "code",
   "execution_count": null,
   "id": "49b8b4ea",
   "metadata": {},
   "outputs": [],
   "source": [
    "import numpy as np\n",
    "import matplotlib.pyplot as plt\n",
    "from skimage.transform import resize\n",
    "import os\n",
    "\n",
    "# Make sure the output directory exists\n",
    "output_dir = \"cgwaves2_outputs\"\n",
    "os.makedirs(output_dir, exist_ok=True)\n",
    "\n",
    "def plot_particle_standardized(ds, particle_index, target_size=128, max_fit=124):\n",
    "    \"\"\"\n",
    "    Plot a single particle on a standardized square canvas.\n",
    "    \n",
    "    Parameters:\n",
    "    -----------\n",
    "    ds : xarray.Dataset\n",
    "        Dataset containing particle image data\n",
    "    particle_index : int\n",
    "        Index of the particle to plot\n",
    "    target_size : int\n",
    "        Size of the output canvas (default: 128x128)\n",
    "    max_fit : int\n",
    "        Maximum dimension for the particle before padding (default: 124)\n",
    "    \n",
    "    Returns:\n",
    "    --------\n",
    "    canvas : np.ndarray\n",
    "        The standardized 128x128 image array\n",
    "    \"\"\"\n",
    "    \n",
    "    # Extract bounding box\n",
    "    start_slice = ds['starty'].values[particle_index]\n",
    "    stop_slice = ds['stopy'].values[particle_index]\n",
    "    start_diode = ds['startx'].values[particle_index]\n",
    "    stop_diode = ds['stopx'].values[particle_index]\n",
    "    probe_time=ds.UTC_Time[particle_index].values.astype('M8[ms]').astype('str')\n",
    "    # Crop the particle image\n",
    "    cropped_image = ds['image'].values[\n",
    "        start_slice:stop_slice, \n",
    "        start_diode:stop_diode\n",
    "    ]\n",
    "    \n",
    "    # Trim to only rows/cols with data\n",
    "    rows_with_data = np.any(cropped_image == 1, axis=1)\n",
    "    cols_with_data = np.any(cropped_image == 1, axis=0)\n",
    "    \n",
    "    if not np.any(rows_with_data) or not np.any(cols_with_data):\n",
    "        print(f\"Warning: Particle {particle_index} has no shaded pixels\")\n",
    "        return None\n",
    "    \n",
    "    cropped_image = cropped_image[rows_with_data][:, cols_with_data]\n",
    "    H_current, W_current = cropped_image.shape\n",
    "    \n",
    "    # Calculate scaling factor (preserve aspect ratio)\n",
    "    max_dim = max(H_current, W_current)\n",
    "    scale_factor = max_fit / max_dim\n",
    "    \n",
    "    # Calculate new dimensions\n",
    "    new_H = max(1, int(round(H_current * scale_factor)))\n",
    "    new_W = max(1, int(round(W_current * scale_factor)))\n",
    "    \n",
    "    # Resize using nearest-neighbor to keep binary\n",
    "    resized_image = resize(\n",
    "        cropped_image,\n",
    "        (new_H, new_W),\n",
    "        order=0,\n",
    "        anti_aliasing=False,\n",
    "        preserve_range=True\n",
    "    )\n",
    "    resized_image = (resized_image > 0.5).astype(np.uint8)\n",
    "    \n",
    "    # Create canvas and center the particle\n",
    "    canvas = np.zeros((target_size, target_size), dtype=np.uint8)\n",
    "    pad_y = (target_size - new_H) // 2\n",
    "    pad_x = (target_size - new_W) // 2\n",
    "    canvas[pad_y:pad_y + new_H, pad_x:pad_x + new_W] = resized_image\n",
    "    \n",
    "    # Plot\n",
    "    plt.figure(figsize=(6, 6))\n",
    "    plt.imshow(canvas, cmap='binary', interpolation='none')\n",
    "    plt.title(f\"{probe_time} | Original: {H_current}×{W_current} → Scaled: {target_size}×{target_size}\")\n",
    "    plt.xlabel('X-Dimension')\n",
    "    plt.ylabel('Y-Dimension')\n",
    "    plt.grid(color='gray', linestyle='--', linewidth=0.5, alpha=0.3)\n",
    "    plt.tight_layout()\n",
    "    plt.savefig(f\"{output_dir}/particle_{particle_index}.png\")\n",
    "    plt.close()\n",
    "    return canvas\n",
    "\n",
    "# Example usage:\n",
    "# canvas = plot_particle_standardized(ds, particle_index=34000)"
   ]
  },
  {
   "cell_type": "code",
   "execution_count": null,
   "id": "e838be9f",
   "metadata": {},
   "outputs": [],
   "source": [
    "plot_particle_standardized(ds, particle_index=34000)"
   ]
  },
  {
   "cell_type": "markdown",
   "id": "239065dc",
   "metadata": {},
   "source": [
    "### Save images for all particles, or specify your start particle"
   ]
  },
  {
   "cell_type": "code",
   "execution_count": null,
   "id": "bcb1ee4f",
   "metadata": {},
   "outputs": [],
   "source": [
    "start_particle= 721600 ## specify where in array you want to start plotting\n",
    "\n",
    "# Loop through all indices (or a subset for testing)\n",
    "for particle_index in range(start_particle,ds.dims['Time']):\n",
    "    plot_particle_standardized(ds, particle_index)"
   ]
  }
 ],
 "metadata": {
  "kernelspec": {
   "display_name": "Python 3",
   "language": "python",
   "name": "python3"
  },
  "language_info": {
   "codemirror_mode": {
    "name": "ipython",
    "version": 3
   },
   "file_extension": ".py",
   "mimetype": "text/x-python",
   "name": "python",
   "nbconvert_exporter": "python",
   "pygments_lexer": "ipython3",
   "version": "3.13.0"
  }
 },
 "nbformat": 4,
 "nbformat_minor": 5
}
